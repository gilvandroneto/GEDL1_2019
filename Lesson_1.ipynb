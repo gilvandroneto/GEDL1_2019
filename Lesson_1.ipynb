{
  "nbformat": 4,
  "nbformat_minor": 0,
  "metadata": {
    "colab": {
      "name": "Lesson-1.ipynb",
      "version": "0.3.2",
      "provenance": [],
      "include_colab_link": true
    },
    "kernelspec": {
      "name": "python3",
      "display_name": "Python 3"
    },
    "accelerator": "GPU"
  },
  "cells": [
    {
      "cell_type": "markdown",
      "metadata": {
        "id": "view-in-github",
        "colab_type": "text"
      },
      "source": [
        "<a href=\"https://colab.research.google.com/github/gilvandroneto/GEDL1_2019/blob/master/Lesson_1.ipynb\" target=\"_parent\"><img src=\"https://colab.research.google.com/assets/colab-badge.svg\" alt=\"Open In Colab\"/></a>"
      ]
    },
    {
      "metadata": {
        "id": "kcciNhESjRER",
        "colab_type": "text"
      },
      "cell_type": "markdown",
      "source": [
        "### Lição 1 fast.ai adaptado para o Google Colab"
      ]
    },
    {
      "metadata": {
        "id": "a7DbvmPVe7ud",
        "colab_type": "code",
        "outputId": "1a87b666-0f5f-4382-be9a-1a3d4c34e8ea",
        "colab": {
          "base_uri": "https://localhost:8080/",
          "height": 114
        }
      },
      "cell_type": "code",
      "source": [
        "#atualiza as libs necessárias para o funcionamento do fast ai\n",
        "\n",
        "!curl -s https://course.fast.ai/setup/colab | bash"
      ],
      "execution_count": 0,
      "outputs": [
        {
          "output_type": "stream",
          "text": [
            "Updating fastai...\n",
            "\u001b[31mfeaturetools 0.4.1 has requirement pandas>=0.23.0, but you'll have pandas 0.22.0 which is incompatible.\u001b[0m\n",
            "\u001b[31malbumentations 0.1.12 has requirement imgaug<0.2.7,>=0.2.5, but you'll have imgaug 0.2.8 which is incompatible.\u001b[0m\n",
            "Done.\n"
          ],
          "name": "stdout"
        }
      ]
    },
    {
      "metadata": {
        "id": "vnNGpxHqlPax",
        "colab_type": "code",
        "outputId": "db61c040-fcaa-4501-beec-4385a1348e35",
        "colab": {
          "base_uri": "https://localhost:8080/",
          "height": 122
        }
      },
      "cell_type": "code",
      "source": [
        "#Monta um drive persistente dentro do google drive\n",
        "\n",
        "from google.colab import drive\n",
        "drive.mount('/content/gdrive', force_remount=True)\n",
        "root_dir = \"/content/gdrive/My Drive/\"\n",
        "base_dir = root_dir + 'fastai-v3/'"
      ],
      "execution_count": 0,
      "outputs": [
        {
          "output_type": "stream",
          "text": [
            "Go to this URL in a browser: https://accounts.google.com/o/oauth2/auth?client_id=947318989803-6bn6qk8qdgf4n4g3pfee6491hc0brc4i.apps.googleusercontent.com&redirect_uri=urn%3Aietf%3Awg%3Aoauth%3A2.0%3Aoob&scope=email%20https%3A%2F%2Fwww.googleapis.com%2Fauth%2Fdocs.test%20https%3A%2F%2Fwww.googleapis.com%2Fauth%2Fdrive%20https%3A%2F%2Fwww.googleapis.com%2Fauth%2Fdrive.photos.readonly%20https%3A%2F%2Fwww.googleapis.com%2Fauth%2Fpeopleapi.readonly&response_type=code\n",
            "\n",
            "Enter your authorization code:\n",
            "··········\n",
            "Mounted at /content/gdrive\n"
          ],
          "name": "stdout"
        }
      ]
    },
    {
      "metadata": {
        "id": "9TiYnHzPlgEZ",
        "colab_type": "code",
        "colab": {}
      },
      "cell_type": "code",
      "source": [
        "# Definição do diretório de trabalho\n",
        "folder = 'lesson1'\n",
        "path = Path(base_dir + 'data/bears')\n",
        "dest = path/folder\n",
        "dest.mkdir(parents=True, exist_ok=True)"
      ],
      "execution_count": 0,
      "outputs": []
    },
    {
      "metadata": {
        "id": "DO6hS76AeqXo",
        "colab_type": "text"
      },
      "cell_type": "markdown",
      "source": [
        "# fast.ai lesson 1 - training on Notebook Instance and export to torch.jit model"
      ]
    },
    {
      "metadata": {
        "id": "PHLJglJ_eqXq",
        "colab_type": "text"
      },
      "cell_type": "markdown",
      "source": [
        "## Overview\n",
        "This notebook shows how to use the SageMaker Python SDK to train your fast.ai model on a SageMaker notebook instance then export it as a torch.jit model to be used for inference on AWS Lambda.\n",
        "\n",
        "## Set up the environment\n",
        "\n",
        "You will need a Jupyter notebook with the `boto3` and `fastai` libraries installed. You can do this with the command `pip install boto3 fastai`\n",
        "\n",
        "This notebook was created and tested on a single ml.p3.2xlarge notebook instance. \n"
      ]
    },
    {
      "metadata": {
        "id": "jOn7PFJveqXr",
        "colab_type": "text"
      },
      "cell_type": "markdown",
      "source": [
        "## Train your model\n",
        "\n",
        "We are going to train a fast.ai model as per [Lesson 1 of the fast.ai MOOC course](https://course.fast.ai/videos/?lesson=1) locally on the SageMaker Notebook instance. We will then save the model weights and upload them to S3.\n",
        "\n"
      ]
    },
    {
      "metadata": {
        "id": "rXA_W9gxeqXs",
        "colab_type": "code",
        "colab": {}
      },
      "cell_type": "code",
      "source": [
        "%reload_ext autoreload\n",
        "%autoreload 2\n",
        "%matplotlib inline"
      ],
      "execution_count": 0,
      "outputs": []
    },
    {
      "metadata": {
        "id": "EsfFFxrxeqXv",
        "colab_type": "code",
        "colab": {}
      },
      "cell_type": "code",
      "source": [
        "import os\n",
        "import io\n",
        "import tarfile\n",
        "\n",
        "import PIL\n",
        "\n",
        "import boto3\n",
        "\n",
        "from fastai.vision import *"
      ],
      "execution_count": 0,
      "outputs": []
    },
    {
      "metadata": {
        "id": "Cy0lOY-seqXx",
        "colab_type": "code",
        "outputId": "da960a43-4ebd-4e8e-80db-940526b4f7ff",
        "colab": {
          "base_uri": "https://localhost:8080/",
          "height": 34
        }
      },
      "cell_type": "code",
      "source": [
        "path = untar_data(URLs.PETS); path"
      ],
      "execution_count": 0,
      "outputs": [
        {
          "output_type": "execute_result",
          "data": {
            "text/plain": [
              "PosixPath('/root/.fastai/data/oxford-iiit-pet')"
            ]
          },
          "metadata": {
            "tags": []
          },
          "execution_count": 4
        }
      ]
    },
    {
      "metadata": {
        "id": "Samwlp0UeqX0",
        "colab_type": "code",
        "colab": {}
      },
      "cell_type": "code",
      "source": [
        "path_anno = path/'annotations'\n",
        "path_img = path/'images'\n",
        "fnames = get_image_files(path_img)\n",
        "np.random.seed(2)\n",
        "pat = re.compile(r'/([^/]+)_\\d+.jpg$')"
      ],
      "execution_count": 0,
      "outputs": []
    },
    {
      "metadata": {
        "id": "FmU63TEteqX2",
        "colab_type": "code",
        "colab": {}
      },
      "cell_type": "code",
      "source": [
        "bs=64\n",
        "img_size=299"
      ],
      "execution_count": 0,
      "outputs": []
    },
    {
      "metadata": {
        "id": "rT0lAPtYeqX5",
        "colab_type": "code",
        "colab": {}
      },
      "cell_type": "code",
      "source": [
        "data = ImageDataBunch.from_name_re(path_img, fnames, pat, ds_tfms=get_transforms(),\n",
        "                                   size=img_size, bs=bs//2).normalize(imagenet_stats)"
      ],
      "execution_count": 0,
      "outputs": []
    },
    {
      "metadata": {
        "id": "85isI7OIeqX8",
        "colab_type": "code",
        "outputId": "779fb026-fec3-4e98-b0db-3e72fbacfcdc",
        "colab": {
          "base_uri": "https://localhost:8080/",
          "height": 51
        }
      },
      "cell_type": "code",
      "source": [
        "#learn = create_cnn(data, models.resnet50, metrics=error_rate)\n",
        "\n",
        "#alterado de create_cnn para cnn_learner\n",
        "\n",
        "learn = cnn_learner(data, models.resnet50, metrics=error_rate)"
      ],
      "execution_count": 0,
      "outputs": [
        {
          "output_type": "stream",
          "text": [
            "Downloading: \"https://download.pytorch.org/models/resnet50-19c8e357.pth\" to /root/.torch/models/resnet50-19c8e357.pth\n",
            "102502400it [00:01, 88156070.88it/s]\n"
          ],
          "name": "stderr"
        }
      ]
    },
    {
      "metadata": {
        "id": "rU3aktOieqX_",
        "colab_type": "code",
        "outputId": "cefff3ab-6a03-4ff1-ac86-562e4507b203",
        "colab": {
          "base_uri": "https://localhost:8080/",
          "height": 296
        }
      },
      "cell_type": "code",
      "source": [
        "learn.lr_find()\n",
        "learn.recorder.plot()"
      ],
      "execution_count": 0,
      "outputs": [
        {
          "output_type": "display_data",
          "data": {
            "text/html": [
              ""
            ],
            "text/plain": [
              "<IPython.core.display.HTML object>"
            ]
          },
          "metadata": {
            "tags": []
          }
        },
        {
          "output_type": "stream",
          "text": [
            "LR Finder is complete, type {learner_name}.recorder.plot() to see the graph.\n"
          ],
          "name": "stdout"
        },
        {
          "output_type": "display_data",
          "data": {
            "image/png": "[encoded data removed]",
            "text/plain": [
              "<Figure size 432x288 with 1 Axes>"
            ]
          },
          "metadata": {
            "tags": []
          }
        }
      ]
    },
    {
      "metadata": {
        "id": "f352pd9VeqYD",
        "colab_type": "code",
        "outputId": "c9abf387-6c29-4dac-f917-d6243fe7064e",
        "colab": {
          "base_uri": "https://localhost:8080/",
          "height": 103
        }
      },
      "cell_type": "code",
      "source": [
        "## Reduzido numero de ciclos para 1\n",
        "\n",
        "#learn.fit_one_cycle(8)\n",
        "learn.fit_one_cycle(1)"
      ],
      "execution_count": 0,
      "outputs": [
        {
          "output_type": "display_data",
          "data": {
            "text/html": [
              "Total time: 03:30 <p><table border=\"1\" class=\"dataframe\">\n",
              "  <thead>\n",
              "    <tr style=\"text-align: left;\">\n",
              "      <th>epoch</th>\n",
              "      <th>train_loss</th>\n",
              "      <th>valid_loss</th>\n",
              "      <th>error_rate</th>\n",
              "      <th>time</th>\n",
              "    </tr>\n",
              "  </thead>\n",
              "  <tbody>\n",
              "    <tr>\n",
              "      <td>0</td>\n",
              "      <td>0.307188</td>\n",
              "      <td>0.181118</td>\n",
              "      <td>0.061570</td>\n",
              "      <td>03:30</td>\n",
              "    </tr>\n",
              "  </tbody>\n",
              "</table>"
            ],
            "text/plain": [
              "<IPython.core.display.HTML object>"
            ]
          },
          "metadata": {
            "tags": []
          }
        }
      ]
    },
    {
      "metadata": {
        "id": "gXTC6UPSeqYF",
        "colab_type": "code",
        "outputId": "2dcdeddb-3110-4cf2-d332-1ed1767f394f",
        "colab": {
          "base_uri": "https://localhost:8080/",
          "height": 103
        }
      },
      "cell_type": "code",
      "source": [
        "# Reduzido numero de ciclos\n",
        "\n",
        "#learn.unfreeze()\n",
        "#learn.fit_one_cycle(3, max_lr=slice(1e-6,1e-4))\n",
        "\n",
        "learn.unfreeze()\n",
        "learn.fit_one_cycle(1, max_lr=slice(1e-6,1e-4))"
      ],
      "execution_count": 0,
      "outputs": [
        {
          "output_type": "display_data",
          "data": {
            "text/html": [
              "Total time: 04:38 <p><table border=\"1\" class=\"dataframe\">\n",
              "  <thead>\n",
              "    <tr style=\"text-align: left;\">\n",
              "      <th>epoch</th>\n",
              "      <th>train_loss</th>\n",
              "      <th>valid_loss</th>\n",
              "      <th>error_rate</th>\n",
              "      <th>time</th>\n",
              "    </tr>\n",
              "  </thead>\n",
              "  <tbody>\n",
              "    <tr>\n",
              "      <td>0</td>\n",
              "      <td>0.221397</td>\n",
              "      <td>0.155280</td>\n",
              "      <td>0.048038</td>\n",
              "      <td>04:38</td>\n",
              "    </tr>\n",
              "  </tbody>\n",
              "</table>"
            ],
            "text/plain": [
              "<IPython.core.display.HTML object>"
            ]
          },
          "metadata": {
            "tags": []
          }
        }
      ]
    },
    {
      "metadata": {
        "id": "toviY5S6eqYI",
        "colab_type": "text"
      },
      "cell_type": "markdown",
      "source": [
        "## Export model and upload to S3"
      ]
    },
    {
      "metadata": {
        "id": "LqQQCVxxeqYJ",
        "colab_type": "text"
      },
      "cell_type": "markdown",
      "source": [
        "Now that we have trained our model we need to export it, create a tarball of the artefacts and upload to S3.\n"
      ]
    },
    {
      "metadata": {
        "id": "vOHQ1ADNeqYK",
        "colab_type": "text"
      },
      "cell_type": "markdown",
      "source": [
        "First we need to export the class names from the data object into a text file."
      ]
    },
    {
      "metadata": {
        "id": "omt9FFKOeqYK",
        "colab_type": "code",
        "colab": {}
      },
      "cell_type": "code",
      "source": [
        "save_texts(path_img/'models/classes.txt', data.classes)"
      ],
      "execution_count": 0,
      "outputs": []
    },
    {
      "metadata": {
        "id": "6MWyUXK1eqYN",
        "colab_type": "text"
      },
      "cell_type": "markdown",
      "source": [
        "Now we need to export the model in the [PyTorch TorchScript format](https://pytorch.org/docs/stable/jit.html) so we can load into an AWS Lambda function."
      ]
    },
    {
      "metadata": {
        "id": "nOXQBflQeqYO",
        "colab_type": "code",
        "colab": {}
      },
      "cell_type": "code",
      "source": [
        "trace_input = torch.ones(1,3,img_size,img_size).cuda()\n",
        "jit_model = torch.jit.trace(learn.model.float(), trace_input)\n",
        "model_file='resnet50_jit.pth'\n",
        "output_path = str(path_img/f'models/{model_file}')\n",
        "torch.jit.save(jit_model, output_path)"
      ],
      "execution_count": 0,
      "outputs": []
    },
    {
      "metadata": {
        "id": "s_VGzBC1eqYQ",
        "colab_type": "text"
      },
      "cell_type": "markdown",
      "source": [
        "Next step is to create a tarfile of the exported classes file and model weights."
      ]
    },
    {
      "metadata": {
        "id": "UzZI0kn2eqYR",
        "colab_type": "code",
        "colab": {}
      },
      "cell_type": "code",
      "source": [
        "#Caminho alterado para o diretório montado do Google Drive\n",
        "\n",
        "#tar_file=path_img/'models/model.tar.gz'\n",
        "tar_file=dest/'model.tar.gz'\n",
        "classes_file='classes.txt'"
      ],
      "execution_count": 0,
      "outputs": []
    },
    {
      "metadata": {
        "id": "oNMC9JVQeqYT",
        "colab_type": "code",
        "colab": {}
      },
      "cell_type": "code",
      "source": [
        "#Nesta operação de escrita, o modelo já é salvo no google drive\n",
        "with tarfile.open(tar_file, 'w:gz') as f:\n",
        "    f.add(path_img/f'models/{model_file}', arcname=model_file)\n",
        "    f.add(path_img/f'models/{classes_file}', arcname=classes_file)"
      ],
      "execution_count": 0,
      "outputs": []
    },
    {
      "metadata": {
        "id": "qfi_3xDUeqYW",
        "colab_type": "text"
      },
      "cell_type": "markdown",
      "source": [
        "Now we need to upload the model tarball to S3."
      ]
    },
    {
      "metadata": {
        "id": "PBvCsVB0eqYY",
        "colab_type": "code",
        "colab": {}
      },
      "cell_type": "code",
      "source": [
        "#s3 = boto3.resource('s3')\n",
        "#s3.meta.client.upload_file(str(tar_file), 'REPLACE_WITH_YOUR_BUCKET_NAME', 'fastai-models/lesson1/model.tar.gz')"
      ],
      "execution_count": 0,
      "outputs": []
    },
    {
      "metadata": {
        "id": "mV5Uxn0KkBgy",
        "colab_type": "code",
        "outputId": "bca2fe24-6ec7-4a99-fae3-0fdf3eefb713",
        "colab": {
          "base_uri": "https://localhost:8080/",
          "height": 34
        }
      },
      "cell_type": "code",
      "source": [
        "# Método alternativo de upload para o drive\n",
        "\n",
        "# Install the PyDrive wrapper & import libraries.\n",
        "# This only needs to be done once in a notebook.\n",
        "# !pip install -U -q PyDrive\n",
        "# from pydrive.auth import GoogleAuth\n",
        "# from pydrive.drive import GoogleDrive\n",
        "# from google.colab import auth\n",
        "# from oauth2client.client import GoogleCredentials\n",
        "\n",
        "# # Authenticate and create the PyDrive client.\n",
        "# # This only needs to be done once in a notebook.\n",
        "# auth.authenticate_user()\n",
        "# gauth = GoogleAuth()\n",
        "# gauth.credentials = GoogleCredentials.get_application_default()\n",
        "# drive = GoogleDrive(gauth)\n",
        "\n",
        "# # Create & upload a file.\n",
        "# uploaded = drive.CreateFile({'title': 'example.tar'})\n",
        "# uploaded.SetContentFile(str(tar_file))\n",
        "# uploaded.Upload()\n",
        "# print('Uploaded file with ID {}'.format(uploaded.get('id')))"
      ],
      "execution_count": 0,
      "outputs": [
        {
          "output_type": "stream",
          "text": [
            "Uploaded file with ID 1bqkVKer_hyKs47gu80PF79T6nLQbclKh\n"
          ],
          "name": "stdout"
        }
      ]
    }
  ]
}